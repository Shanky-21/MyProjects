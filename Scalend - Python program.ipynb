{
 "cells": [
  {
   "cell_type": "code",
   "execution_count": 189,
   "metadata": {},
   "outputs": [],
   "source": [
    "import pandas as pd"
   ]
  },
  {
   "cell_type": "code",
   "execution_count": 190,
   "metadata": {
    "scrolled": true
   },
   "outputs": [],
   "source": [
    "df1 = pd.read_excel('F:\\Machine Learning\\Projects\\Scalend\\Bank_branch_transactions.xlsx')"
   ]
  },
  {
   "cell_type": "code",
   "execution_count": 191,
   "metadata": {},
   "outputs": [],
   "source": [
    "df2 = pd.read_excel('F:\\Machine Learning\\Projects\\Scalend\\Bank_customer_db.xlsx')\n"
   ]
  },
  {
   "cell_type": "code",
   "execution_count": 192,
   "metadata": {
    "scrolled": true
   },
   "outputs": [
    {
     "name": "stdout",
     "output_type": "stream",
     "text": [
      "The columns which have the same data are Bank_branch_transactions.cis_no Bank_customer_info.customer_no\n",
      "The columns which have the same data are Bank_branch_transactions.transaction_location Bank_customer_info.dependents\n"
     ]
    }
   ],
   "source": [
    "for i in df1.columns:\n",
    "    for j in df2.columns: \n",
    "        if df1[i].dtypes == df2[j].dtypes:                           # Check if the data types are the same\n",
    "            a = pd.merge(df1,df2,left_on=i,right_on=j,how='inner')   # Merge is empty if keys are not equal     \n",
    "            if a.empty:\n",
    "                pass\n",
    "            else:\n",
    "                print 'The columns which have the same data are',i,j\n",
    "                break"
   ]
  },
  {
   "cell_type": "code",
   "execution_count": 193,
   "metadata": {},
   "outputs": [],
   "source": [
    "# The 2nd output is being treated as categorical and the data type is the same for both the columns i.e int64.\n",
    "# They have keys in common which shows that they are same type of columns."
   ]
  }
 ],
 "metadata": {
  "kernelspec": {
   "display_name": "Python 2",
   "language": "python",
   "name": "python2"
  },
  "language_info": {
   "codemirror_mode": {
    "name": "ipython",
    "version": 2
   },
   "file_extension": ".py",
   "mimetype": "text/x-python",
   "name": "python",
   "nbconvert_exporter": "python",
   "pygments_lexer": "ipython2",
   "version": "2.7.14"
  }
 },
 "nbformat": 4,
 "nbformat_minor": 2
}
